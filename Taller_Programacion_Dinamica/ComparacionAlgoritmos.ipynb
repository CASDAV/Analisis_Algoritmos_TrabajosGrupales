{
  "nbformat": 4,
  "nbformat_minor": 0,
  "metadata": {
    "application/vnd.databricks.v1+notebook": {
      "notebookName": "taller2analisis",
      "dashboards": [],
      "notebookMetadata": {
        "pythonIndentUnit": 2
      },
      "language": "python",
      "widgets": {},
      "notebookOrigID": 2490401323939646
    },
    "colab": {
      "name": "taller2analisis (3).ipynb",
      "provenance": []
    },
    "language_info": {
      "name": "python"
    },
    "kernelspec": {
      "name": "python3",
      "display_name": "Python 3"
    }
  },
  "cells": [
    {
      "cell_type": "code",
      "metadata": {
        "application/vnd.databricks.v1+cell": {
          "title": "",
          "showTitle": false,
          "inputWidgets": {},
          "nuid": "feec2d01-98be-4066-b98d-56a3caf68e8a"
        },
        "id": "F0S7ydY-ROse"
      },
      "source": [
        "import time\n",
        "import numpy as np"
      ],
      "execution_count": null,
      "outputs": []
    },
    {
      "cell_type": "code",
      "metadata": {
        "application/vnd.databricks.v1+cell": {
          "title": "",
          "showTitle": false,
          "inputWidgets": {},
          "nuid": "08f6a343-d33f-4780-a586-0154c9725fbe"
        },
        "id": "ZdolVg2hROsf"
      },
      "source": [
        "x = \"CASA\"\n",
        "y = \"CARRO\"\n",
        "z = \"CCASARROA\"\n",
        "a = \"\"\n",
        "s = False\n",
        "\n",
        "x2 = \"aaaaaaaaaaaaaaa\"\n",
        "y2 = \"bbbbbbbbbbbbbb\"\n",
        "z2 = \"\".join(i + j for i, j in zip(x2, y2))\n",
        "a2 = \"\"\n",
        "s = False\n",
        "\n",
        "\n",
        "x3 = \"asdfasdfsdaasdasdasdasdasdasdfasdfaasdsdasfasddbsdfbfasasddfasfdkfaasdñsadfwetnasdfalafsdfsasddfnasdfasdasdkjahkjhkjhdkjahkjaaaaadhkjasdfasdfaaaaaaaaaaaaaaaaaaaaaaaaaaaaaaaaaaaaaaaaaaaaaaaaaaaa\"\n",
        "y3 = \"asdfsdfhertaasdasdasdadsfkljweklñasdfasdfasdfsdfjakfasdjasdflfafsdflasdfkjefsadasadfasdfasdfaaaasljdlkasjdlkasdadaaaasdfasdf\"\n",
        "z3 = \"\".join(i + j for i, j in zip(x3, y3))\n",
        "a3 = \"\"\n",
        "s = False"
      ],
      "execution_count": null,
      "outputs": []
    },
    {
      "cell_type": "code",
      "metadata": {
        "application/vnd.databricks.v1+cell": {
          "title": "",
          "showTitle": false,
          "inputWidgets": {},
          "nuid": "16ee75c9-082d-4673-83de-b12f750f6436"
        },
        "id": "KtWIb_w3ROsg"
      },
      "source": [
        "def verificar(x,y,z,a,q):\n",
        "  global s\n",
        " \n",
        "  \n",
        "  #if len(z) == 0:\n",
        "   # s = True\n",
        "    #return a\n",
        "  if a == q:\n",
        "    s = True\n",
        "    return a\n",
        "\n",
        "  if s == False:\n",
        "    if len(x) == 0 and len(y) == 0:\n",
        "      return a\n",
        "\n",
        "    if len(x) > 0 or len(y) > 0:\n",
        "      if len(x) > 0:\n",
        "        if x[0] == z[0]:\n",
        "          verificar(x[1:],y,z[1:],a + x[0],q)\n",
        "      if len(y) > 0:\n",
        "        if y[0] == z[0]:\n",
        "          verificar(x,y[1:],z[1:],a + y[0],q)\n",
        "  \n",
        "  return a"
      ],
      "execution_count": null,
      "outputs": []
    },
    {
      "cell_type": "code",
      "metadata": {
        "application/vnd.databricks.v1+cell": {
          "title": "",
          "showTitle": false,
          "inputWidgets": {},
          "nuid": "385c3f1b-04b2-4bb9-a98e-b74682566dde"
        },
        "colab": {
          "base_uri": "https://localhost:8080/"
        },
        "id": "vl-dwhGYROsg",
        "outputId": "8329e791-c6f4-4838-ded7-83edd67a814c"
      },
      "source": [
        "start_time = time.time()\n",
        "\n",
        "w = verificar(x,y,z,a,z)\n",
        "print(s)\n",
        "s = False\n",
        "t1 = time.time()\n",
        "w = verificar(x2,y2,z2,a2,z2)\n",
        "print(s)\n",
        "s = False\n",
        "t2 = time.time()\n",
        "\n",
        "w = verificar(x3,y3,z3,a3,z3)\n",
        "print(s)\n",
        "s = False\n",
        "t3 = time.time()\n",
        "\n",
        "\n",
        "print(\"--- %s tiempo de finalizacion ---\" % (time.time() - start_time))\n",
        "print(\"tiempo caso 1: %s\" % (t1 - start_time))\n",
        "print(\"tiempo caso 2: %s\" % (t2 - start_time))\n",
        "print(\"tiempo caso 3: %s\" % (t3 - start_time))\n"
      ],
      "execution_count": 138,
      "outputs": [
        {
          "output_type": "stream",
          "name": "stdout",
          "text": [
            "True\n",
            "True\n",
            "True\n",
            "--- 0.01451253890991211 tiempo de finalizacion ---\n",
            "tiempo caso 1: 0.0004820823669433594\n",
            "tiempo caso 2: 0.011086225509643555\n",
            "tiempo caso 3: 0.01446843147277832\n"
          ]
        }
      ]
    },
    {
      "cell_type": "markdown",
      "metadata": {
        "application/vnd.databricks.v1+cell": {
          "title": "",
          "showTitle": false,
          "inputWidgets": {},
          "nuid": "d83221ae-9f33-4c9a-b792-30a532b31765"
        },
        "id": "lAhnVC_LROsg"
      },
      "source": [
        "<h2> Recursivo Memoizado</h2>"
      ]
    },
    {
      "cell_type": "code",
      "metadata": {
        "application/vnd.databricks.v1+cell": {
          "title": "",
          "showTitle": false,
          "inputWidgets": {},
          "nuid": "acefdd2f-fd95-493b-9d66-f16535a6f487"
        },
        "id": "j8ytLwh3ROsk"
      },
      "source": [
        "import time\n",
        "import numpy as np\n",
        "sePudo = False"
      ],
      "execution_count": null,
      "outputs": []
    },
    {
      "cell_type": "code",
      "metadata": {
        "application/vnd.databricks.v1+cell": {
          "title": "",
          "showTitle": false,
          "inputWidgets": {},
          "nuid": "b047fb39-5c59-4213-b4bf-844e77b17edf"
        },
        "id": "5e336jIUROsk"
      },
      "source": [
        "def verificarM(x,y,z,m,n,c):\n",
        "  global sePudo\n",
        " # print(x,y,z,m,n,c)\n",
        "  if c[m][n] != \"\":\n",
        "    return c[m][n]\n",
        "  \n",
        "  if(len(z) == 0):\n",
        "    sePudo = True\n",
        "    return c[m][n]\n",
        " # if m == 0 and n == 0: #xddd\n",
        "  #  c[m][n] = \"\"\n",
        "\n",
        "  if len(x) > 0 or len(y) > 0:\n",
        "    if len(x) > 0:\n",
        "      if x[0] == z[0] and sePudo == False:\n",
        "        c[m][n] = str(verificarM(x[1:],y,z[1:],m-1,n,c) ) + x[0]\n",
        "     #   print(c)\n",
        "    if len(y) > 0:\n",
        "      if y[0] == z[0] and sePudo == False:\n",
        "        c[m][n] = str(verificarM(x,y[1:],z[1:],m,n-1,c) ) + y[0]\n",
        "   # print(c)\n",
        "  \n",
        "  return c[m][n]"
      ],
      "execution_count": 78,
      "outputs": []
    },
    {
      "cell_type": "code",
      "metadata": {
        "application/vnd.databricks.v1+cell": {
          "title": "",
          "showTitle": false,
          "inputWidgets": {},
          "nuid": "6f68204d-3f8a-4baa-9943-3912063ecb4e"
        },
        "colab": {
          "base_uri": "https://localhost:8080/"
        },
        "id": "o3VndUedROsl",
        "outputId": "917745f0-e95b-4d70-d5b9-2abfe278bbec"
      },
      "source": [
        "start_time = time.time()\n",
        "x = \"CASA\"\n",
        "y = \"CARRO\"\n",
        "z = \"CCASARROA\"\n",
        "sePudo = False\n",
        "m = len(x)\n",
        "n = len(y)\n",
        "c = np.empty( (len(x)+1,len(y)+1), dtype = 'object' )\n",
        "c.fill(\"\")\n",
        "\n",
        "cc = verificarM(x,y,z,m,n,c)\n",
        "#print(cc,z)\n",
        "if cc[::-1] == z:\n",
        "  print(True)\n",
        "else:\n",
        "  print(False)\n",
        "\n",
        "sePudo = False\n",
        "print(cc[::-1])\n",
        "t1 = time.time()\n",
        "\n",
        "m = len(x2)\n",
        "n = len(y2)\n",
        "c = np.empty( (len(x2)+1,len(y2)+1), dtype = 'object' )\n",
        "c.fill(\"\")\n",
        "\n",
        "cc = verificarM(x2,y2,z2,m,n,c)\n",
        "if cc[::-1] == z2:\n",
        "  print(True)\n",
        "else:\n",
        "  print(False)\n",
        "sePudo = False\n",
        "print(cc[::-1])\n",
        "t2 = time.time()\n",
        "\n",
        "m = len(x3)\n",
        "n = len(y3)\n",
        "c = np.empty( (len(x3)+1,len(y3)+1), dtype = 'object' )\n",
        "c.fill(\"\")\n",
        "\n",
        "cc = verificarM(x3,y3,z3,m,n,c)\n",
        "if cc[::-1] == z3:\n",
        "  print(True)\n",
        "else:\n",
        "  print(False)\n",
        "sePudo = False\n",
        "print(cc[::-1])\n",
        "t3 = time.time()\n",
        "\n",
        "\n",
        "print(\"--- %s seconds ---\" % (time.time() - start_time))\n",
        "print(\"tiempo caso 1: %s\" % (t1 - start_time))\n",
        "print(\"tiempo caso 2: %s\" % (t2 - start_time))\n",
        "print(\"tiempo caso 3: %s\" % (t3 - start_time))"
      ],
      "execution_count": 139,
      "outputs": [
        {
          "output_type": "stream",
          "name": "stdout",
          "text": [
            "True\n",
            "CCASARROA\n",
            "True\n",
            "abababababababababababababab\n",
            "True\n",
            "aassddffassddffhsedrataasadsadsadsadsadsadsaddassfdkalsjdwfeaksldñfaasadsfdassddafsafsadsfdsddbfsjdafkbffaassdajsadsddffalsffadfksfdafalsadsñdsfakdjfewfestandaassdafdaflaasfdsfdafssdafsadadafansalsjddflaksadsajsddlkkjaashdkajdhakajahadskdjfaahskdjf\n",
            "--- 0.003795146942138672 seconds ---\n",
            "tiempo caso 1: 0.0013861656188964844\n",
            "tiempo caso 2: 0.0021843910217285156\n",
            "tiempo caso 3: 0.0037641525268554688\n"
          ]
        }
      ]
    }
  ]
}