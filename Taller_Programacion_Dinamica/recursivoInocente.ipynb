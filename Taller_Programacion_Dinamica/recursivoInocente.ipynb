{
  "nbformat": 4,
  "nbformat_minor": 0,
  "metadata": {
    "colab": {
      "name": "Untitled0.ipynb",
      "provenance": []
    },
    "kernelspec": {
      "name": "python3",
      "display_name": "Python 3"
    },
    "language_info": {
      "name": "python"
    }
  },
  "cells": [
    {
      "cell_type": "code",
      "metadata": {
        "id": "JTbu7Vp5tPK5"
      },
      "source": [
        "import time\n",
        "import numpy as np"
      ],
      "execution_count": 1,
      "outputs": []
    },
    {
      "cell_type": "code",
      "metadata": {
        "id": "jYtDdOFYtSD2"
      },
      "source": [
        "x = \"CASA\"\n",
        "y = \"CARRO\"\n",
        "z = \"CCASARROA\"\n",
        "a = \"\"\n",
        "s = False"
      ],
      "execution_count": 5,
      "outputs": []
    },
    {
      "cell_type": "code",
      "metadata": {
        "id": "c9DGRjOWtTlW"
      },
      "source": [
        "def verificar(x,y,z,a,q):\n",
        "  global s\n",
        " \n",
        "  \n",
        "  #if len(z) == 0:\n",
        "   # s = True\n",
        "    #return a\n",
        "  if a == q:\n",
        "    s = True\n",
        "    return a\n",
        "\n",
        "  if s == False:\n",
        "    if len(x) == 0 and len(y) == 0:\n",
        "      return a\n",
        "\n",
        "    if len(x) > 0 or len(y) > 0:\n",
        "      if len(x) > 0:\n",
        "        if x[0] == z[0]:\n",
        "          verificar(x[1:],y,z[1:],a + x[0],q)\n",
        "      if len(y) > 0:\n",
        "        if y[0] == z[0]:\n",
        "          verificar(x,y[1:],z[1:],a + y[0],q)\n",
        "  \n",
        "  return a"
      ],
      "execution_count": 3,
      "outputs": []
    },
    {
      "cell_type": "code",
      "metadata": {
        "colab": {
          "base_uri": "https://localhost:8080/"
        },
        "id": "NdLFVgm_t6tL",
        "outputId": "e1a80b9d-49a0-4132-b296-d253d03410ae"
      },
      "source": [
        "start_time = time.time()\n",
        "w = verificar(x,y,z,a,z)\n",
        "print(s)\n",
        "print(w)\n",
        "s = False\n",
        "print(\"--- %s seconds ---\" % (time.time() - start_time))"
      ],
      "execution_count": 6,
      "outputs": [
        {
          "output_type": "stream",
          "name": "stdout",
          "text": [
            "True\n",
            "\n",
            "--- 0.00029087066650390625 seconds ---\n"
          ]
        }
      ]
    }
  ]
}